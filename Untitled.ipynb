{
 "cells": [
  {
   "cell_type": "code",
   "execution_count": 1,
   "metadata": {},
   "outputs": [
    {
     "name": "stdout",
     "output_type": "stream",
     "text": [
      "pygame 1.9.6\n",
      "Hello from the pygame community. https://www.pygame.org/contribute.html\n",
      "64.662896875\n",
      "37.6349984375\n",
      "165.6949578125\n",
      "159.6880046875\n",
      "94.7606640625\n",
      "57.8032421875\n",
      "83.3086609375\n"
     ]
    }
   ],
   "source": [
    "#imports\n",
    " \n",
    "import pygame\n",
    "from pygame.locals import *\n",
    "pygame.init()\n",
    " \n",
    "#images to test for brightness\n",
    " \n",
    "Images = [\n",
    "pygame.image.load(\"T1-0.png\"),\n",
    "pygame.image.load(\"T1-1.png\"),\n",
    "pygame.image.load(\"T1-2.png\"),\n",
    "pygame.image.load(\"T1-3.png\"),\n",
    "pygame.image.load(\"T2-0.png\"),\n",
    "pygame.image.load(\"T2-1.png\"),\n",
    "pygame.image.load(\"T2-2.png\"),]\n",
    " \n",
    "#testing loop\n",
    " \n",
    "for image in Images:\n",
    " \n",
    "    #set up display\n",
    " \n",
    "    screen = pygame.display.set_mode((image.get_width(),image.get_height()))\n",
    "    screen.blit(image,(0,0))\n",
    "    pygame.display.update()\n",
    " \n",
    "    #reset value\n",
    " \n",
    "    value = []\n",
    " \n",
    "    #loop to test each pixel\n",
    " \n",
    "    for x in range(image.get_width()):\n",
    "        for y in range(image.get_height()):\n",
    " \n",
    "            #find brightness\n",
    " \n",
    "            color = screen.get_at((x, y))\n",
    "            color = (color[0]+color[1]+color[2])/3\n",
    " \n",
    "            #add brightness to the value of the image\n",
    " \n",
    "            value.append(color)\n",
    " \n",
    "    #average the value of the image and display it to user\n",
    " \n",
    "    print(sum(value)/len(value))\n",
    " \n",
    "#end program\n",
    " \n",
    "pygame.quit()\n",
    "quit()"
   ]
  },
  {
   "cell_type": "code",
   "execution_count": 2,
   "metadata": {},
   "outputs": [
    {
     "name": "stdout",
     "output_type": "stream",
     "text": [
      "2.161163818359375\n",
      "0.04960925292968765\n",
      "10.054293579101563\n",
      "9.585000366210938\n",
      "4.512551879882812\n",
      "1.6252532958984371\n",
      "3.6178641357421872\n"
     ]
    }
   ],
   "source": [
    "#imports\n",
    " \n",
    "import pygame\n",
    "from pygame.locals import *\n",
    "pygame.init()\n",
    " \n",
    "#images to test for brightness\n",
    " \n",
    "Images = [\n",
    "pygame.image.load(\"T1-0.png\"),\n",
    "pygame.image.load(\"T1-1.png\"),\n",
    "pygame.image.load(\"T1-2.png\"),\n",
    "pygame.image.load(\"T1-3.png\"),\n",
    "pygame.image.load(\"T2-0.png\"),\n",
    "pygame.image.load(\"T2-1.png\"),\n",
    "pygame.image.load(\"T2-2.png\"),]\n",
    " \n",
    "#testing loop\n",
    " \n",
    "for image in Images:\n",
    " \n",
    "    #set up display\n",
    " \n",
    "    screen = pygame.display.set_mode((image.get_width(),image.get_height()))\n",
    "    screen.blit(image,(0,0))\n",
    "    pygame.display.update()\n",
    " \n",
    "    #reset value\n",
    " \n",
    "    value = []\n",
    " \n",
    "    #loop to test each pixel\n",
    " \n",
    "    for x in range(image.get_width()):\n",
    "        for y in range(image.get_height()):\n",
    " \n",
    "            #find brightness\n",
    " \n",
    "            color = screen.get_at((x, y))\n",
    "            color = (color[0]+color[1]+color[2])/3\n",
    " \n",
    "            #add brightness to the value of the image\n",
    " \n",
    "            value.append(color)\n",
    " \n",
    "    #average the value of the image and display it to user\n",
    " \n",
    "    y = (sum(value)/len(value))\n",
    "    x = ((y-37)/(165-37)) * (10-0)+0\n",
    "    print(x)\n",
    " \n",
    "#end program\n",
    " \n",
    "pygame.quit()\n",
    "quit()"
   ]
  },
  {
   "cell_type": "code",
   "execution_count": 3,
   "metadata": {},
   "outputs": [
    {
     "name": "stdout",
     "output_type": "stream",
     "text": [
      "T1-0.png is 64.662896875\n",
      "T1-1.png is 37.6349984375\n"
     ]
    }
   ],
   "source": [
    "from PIL import Image, ImageStat\n",
    " \n",
    "def brightness_level(ifile):\n",
    "    im = Image.open(ifile).convert('L')\n",
    "    stat = ImageStat.Stat(im)\n",
    "    return stat.mean[0]\n",
    " \n",
    "images = [\n",
    "\"T1-0.png\",\n",
    "\"T1-1.png\"]\n",
    " \n",
    "for i in images:\n",
    "    print('{} is {}'.format(i, brightness_level(i)))"
   ]
  },
  {
   "cell_type": "code",
   "execution_count": null,
   "metadata": {},
   "outputs": [],
   "source": [
    "from PIL import Image, ImageStat\n",
    " \n",
    "def brightness( im_file ):\n",
    "    im = Image.open(im_file).convert('L')\n",
    "    stat = ImageStat.Stat(im)\n",
    "    return stat.rms[0]\n",
    " \n",
    "images = [\n",
    "\"T1-0.png\",\n",
    "\"T1-1.png\"]\n",
    " \n",
    "for i in images:\n",
    "    print('{} is {}'.format(i, brightness_level(i)))"
   ]
  },
  {
   "cell_type": "code",
   "execution_count": null,
   "metadata": {},
   "outputs": [],
   "source": [
    "from PIL import Image, ImageStat\n",
    " \n",
    "def brightness( im_file ):\n",
    "    im = Image.open(im_file).convert('L')\n",
    "    stat = ImageStat.Stat(im)\n",
    "    return stat.rms[0]\n",
    " \n",
    "images = [\n",
    "\"T1-0.png\",\n",
    "\"T1-1.png\"]\n",
    " \n",
    "for i in images:\n",
    "    print('{} is {}'.format(i, brightness_level(i)))"
   ]
  },
  {
   "cell_type": "code",
   "execution_count": null,
   "metadata": {},
   "outputs": [],
   "source": [
    "from PIL import Image, ImageStat\n",
    " \n",
    "def brightness( im_file ):\n",
    "    im = Image.open(im_file)\n",
    "    stat = ImageStat.Stat(im)\n",
    "    r,g,b = stat.mean\n",
    "    return math.sqrt(0.241*(r**2) + 0.691*(g**2) + 0.068*(b**2))\n",
    " \n",
    "images = [\n",
    "\"T1-0.png\",\n",
    "\"T1-1.png\"]\n",
    " \n",
    "for i in images:\n",
    "    print('{} is {}'.format(i, brightness_level(i)))"
   ]
  },
  {
   "cell_type": "code",
   "execution_count": null,
   "metadata": {},
   "outputs": [],
   "source": [
    "from PIL import Image, ImageStat\n",
    " \n",
    "def brightness( im_file ):\n",
    "    im = Image.open(im_file)\n",
    "    stat = ImageStat.Stat(im)\n",
    "    gs = (math.sqrt(0.241*(r**2) + 0.691*(g**2) + 0.068*(b**2)) \n",
    "         for r,g,b in im.getdata())\n",
    "    return sum(gs)/stat.count[0]\n",
    " \n",
    "images = [\n",
    "\"T1-0.png\",\n",
    "\"T1-1.png\"]\n",
    " \n",
    "for i in images:\n",
    "    print('{} is {}'.format(i, brightness_level(i)))"
   ]
  },
  {
   "cell_type": "code",
   "execution_count": null,
   "metadata": {},
   "outputs": [],
   "source": []
  }
 ],
 "metadata": {
  "kernelspec": {
   "display_name": "Python 3",
   "language": "python",
   "name": "python3"
  },
  "language_info": {
   "codemirror_mode": {
    "name": "ipython",
    "version": 3
   },
   "file_extension": ".py",
   "mimetype": "text/x-python",
   "name": "python",
   "nbconvert_exporter": "python",
   "pygments_lexer": "ipython3",
   "version": "3.7.1"
  }
 },
 "nbformat": 4,
 "nbformat_minor": 2
}
