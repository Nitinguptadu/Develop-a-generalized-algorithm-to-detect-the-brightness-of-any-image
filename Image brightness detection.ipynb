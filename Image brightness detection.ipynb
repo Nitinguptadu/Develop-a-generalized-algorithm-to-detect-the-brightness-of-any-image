{
 "cells": [
  {
   "cell_type": "markdown",
   "metadata": {},
   "source": [
    "# Develop a generalized algorithm to detect the brightness of any image"
   ]
  },
  {
   "cell_type": "markdown",
   "metadata": {},
   "source": [
    "# importing modules "
   ]
  },
  {
   "cell_type": "code",
   "execution_count": 1,
   "metadata": {},
   "outputs": [
    {
     "name": "stdout",
     "output_type": "stream",
     "text": [
      "pygame 1.9.6\n",
      "Hello from the pygame community. https://www.pygame.org/contribute.html\n"
     ]
    },
    {
     "data": {
      "text/plain": [
       "(6, 0)"
      ]
     },
     "execution_count": 1,
     "metadata": {},
     "output_type": "execute_result"
    }
   ],
   "source": [
    " \n",
    "import pygame\n",
    "from pygame.locals import *\n",
    "pygame.init()\n",
    " "
   ]
  },
  {
   "cell_type": "markdown",
   "metadata": {},
   "source": [
    "# Method 1"
   ]
  },
  {
   "cell_type": "markdown",
   "metadata": {},
   "source": [
    "# images to test for brightness"
   ]
  },
  {
   "cell_type": "code",
   "execution_count": 2,
   "metadata": {},
   "outputs": [
    {
     "name": "stdout",
     "output_type": "stream",
     "text": [
      "Zero being low bright and Ten being high bright\n",
      "Brightness of Image 2.161163818359375\n",
      "Brightness of Image 0.04960925292968765\n",
      "Brightness of Image 10.054293579101563\n",
      "Brightness of Image 9.585000366210938\n",
      "Brightness of Image 4.512551879882812\n",
      "Brightness of Image 1.6252532958984371\n",
      "Brightness of Image 3.6178641357421872\n"
     ]
    }
   ],
   "source": [
    " \n",
    "Images = [\n",
    "pygame.image.load(\"a.png\"),\n",
    "pygame.image.load(\"b.png\"),\n",
    "pygame.image.load(\"c.png\"),\n",
    "pygame.image.load(\"d.png\"),\n",
    "pygame.image.load(\"e.png\"),\n",
    "pygame.image.load(\"f.png\"),\n",
    "pygame.image.load(\"g.png\"),]\n",
    " \n",
    "#testing loop\n",
    "print(\"Zero being low bright and Ten being high bright\")\n",
    " \n",
    "for image in Images:\n",
    " \n",
    "    #set up display\n",
    " \n",
    "    screen = pygame.display.set_mode((image.get_width(),image.get_height()))\n",
    "    screen.blit(image,(0,0))\n",
    "    pygame.display.update()\n",
    " \n",
    "    #reset value\n",
    " \n",
    "    value = []\n",
    " \n",
    "    #loop to test each pixel\n",
    " \n",
    "    for x in range(image.get_width()):\n",
    "        for y in range(image.get_height()):\n",
    " \n",
    "            #find brightness\n",
    " \n",
    "            color = screen.get_at((x, y))\n",
    "            color = (color[0]+color[1]+color[2])/3\n",
    " \n",
    "            #add brightness to the value of the image\n",
    " \n",
    "            value.append(color)\n",
    "    old_Min = 37\n",
    "    old_Max = 165\n",
    "    New_Min = 0\n",
    "    New_Max = 10\n",
    "    Brightness_Value = (sum(value)/len(value))\n",
    "    x = ((Brightness_Value-old_Min)/(old_Max-old_Min))*(New_Max-New_Min)+New_Min\n",
    "    \n",
    "    #print(\"Brightness of Image\")\n",
    "    print(\"Brightness of Image\",x) \n",
    "    \n",
    "pygame.quit()\n",
    "\n",
    " \n",
    "\n",
    "\n",
    "\n",
    "\n",
    "\n",
    " \n"
   ]
  }
 ],
 "metadata": {
  "kernelspec": {
   "display_name": "Python 3",
   "language": "python",
   "name": "python3"
  },
  "language_info": {
   "codemirror_mode": {
    "name": "ipython",
    "version": 3
   },
   "file_extension": ".py",
   "mimetype": "text/x-python",
   "name": "python",
   "nbconvert_exporter": "python",
   "pygments_lexer": "ipython3",
   "version": "3.7.1"
  }
 },
 "nbformat": 4,
 "nbformat_minor": 2
}
